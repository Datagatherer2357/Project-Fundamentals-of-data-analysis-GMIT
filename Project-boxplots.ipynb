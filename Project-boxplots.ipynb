{
 "cells": [
  {
   "cell_type": "markdown",
   "metadata": {},
   "source": [
    "<img src=\"https://image.ibb.co/gw4Gen/Index-GMIT.png\" alt=\"Index-GMIT\" border=\"0\">\n",
    "\n",
    "## Project: Boxplots¶ \n",
    "\n",
    "* Project for Fundamentals of Data Analysis\n",
    "* Start date: 14-11-2018 End date 14-12-2018\n",
    "* Gareth Duffy\n",
    "----------------------\n",
    "\n",
    "### Project outline and objectives¶¶ \n",
    "\n",
    "* Summarise the history of the box plot and situations in which it used.\n",
    "* Demonstrate the use of the box plot using data of your choosing.\n",
    "* Explain any relevant terminology such as the terms quartile and percentile.\n",
    "* Compare the box plot to alternatives.\n",
    "---------------------------"
   ]
  },
  {
   "cell_type": "markdown",
   "metadata": {},
   "source": [
    "### History of the boxplot and situations in which it used\n",
    "\n",
    "The boxplot, also called a box-and-whisker plot, summarizes numerical data based on quartiles, which divide a data set into fourths. The boxplot is very useful for revealing the central tendency and variability of a data set, the distribution of the data (particularly symmetry and skewness), and the presence of outliers. It is also a powerful plotting technique for comparing sampled from two or more treatments or populations [1].  \n",
    "\n",
    "The boxplot was invented and introduced in 1970 by statistician John Wilder Tukey as part of his toolkit for exploratory data analysis. However, it did not become widely known until its official publication in 1977. Even today the boxplot is one of the most used statistical plots and is one of the very few plot types invented in the 20th century that has gained widespread utility. The basic form of the boxplot, the range bar was established in the 1950's [2].\n",
    "\n",
    "#### What exacty is a boxplot?\n",
    "\n",
    "The boxplot is a compact distributional summary, displaying less detail than the histogram or kernel density for example, but also taking up far less space. It is comprised of five components, carefully chosen to offer a comprehensive summary of the distribution of a dataset [2]:\n",
    "\n",
    "* The **median**.\n",
    "* The two **hinges**, the upper and lower fourths (at the 25% and 75% quartiles).\n",
    "* The data values adjacent to the upper and lower **fences**, which lie 1.5 times the interquartile range (IQR) from the median.\n",
    "* Two **whiskers** that connect the hinges to the fences.\n",
    "* Potential **outliers**: Individual points further away from the median than the extremes.\n",
    "\n",
    "<img src=\"https://image.ibb.co/bHNjLV/boxplot.jpg\" alt=\"boxplot\" border=\"0\">\n",
    "\n",
    "A boxplot is a way to show (as Tukey proposed), a \"five number summary\" in a chart, i.e. the min,max, median, fisrt and third quartile values).\n",
    "Boxplots are ideal for comparing distributions because the centre, spread and overall range are immediately apparent. Indeed, they afford a useful way to present data to an audience; it is often easier to convey the central location and spread of values pictorially than by quoting a list of descriptive statistics. The main part of the chart (the box) shows where the middle portion of the data is: the interquartile range. At the ends of the box, you find the first quartile (the 25% mark) and the third quartile (the 75% mark). The far left of the chart (at the end of the left “whisker”) is the minimum (smallest number in the set of observations) and the far right is the maximum (largest number in the set). Finally, the median (quartile 2) is represented by a vertical bar in the center of the box [4].\n",
    "\n",
    "What is the interquartile range? \n",
    "\n",
    "The interquartile range, abbreviated **IQR**, is simply the true width of the box. That is, the difference between the upper quartile and lower quartile (IQR = Q3 – Q1). Essentially, the box spans the interquartile range.  The IQR can be used as a measure of how spread-out the values are. The IQR is very useful because it is less influenced by extreme values as it limits the range to the middle 50% of the values. \n",
    "\n",
    "There are quite a number of variations of the definitions of boxplot features. For example, some boxplots incorporate semi-interquartile ranges for asymmetric whiskers, adjustment to the extremes to account form skewness, alternative definitions of fences or outliers, or using additional graphical elements to display kurtosis, skewness, mean and standard error. One of the most appealing features of the boxplot is that if you have a rank function for your data, you can generate a boxplot. This makes it very simple to extend the boxplot to work with weighted data e.g. spatial or distance [2].\n",
    "\n",
    "### Brief history\n",
    "\n",
    "One of the first limits encountered with the boxplot was that it was designed to be computed and drawn by hand. Today however, every statistician and data analyst has a computer at their disposal. Modern boxplots overcame problems the original type faced such as failure to display multi-modalality or the excessive number of outliers when the sample (*n*) is large. Let's look at a few of the basic variations. The first variation to display density was the *vase plot* in 1998. Here, the box is replaced with a symmetrical display of density. *Violin plots* are similer but display the density for *all* data points and not just the middle half. In 2008 the *bean plot* added a \"rug\" showing every value and a line that displays the mean. The name stems from the appearance of the plot where the shape of the density resembles the outside of a bean pod while the rug looks like the seeds inside. Kampstra (2008) suggested a way of comparing two groups more easily: use the left and right sides of the bean to display different distributions, an idea similar to the *raindrop plot*, but its focus is on the display of error distributions from complex models [2].\n",
    "\n",
    "<img src=\"https://image.ibb.co/fShenA/boxplot2.png\" alt=\"boxplot2\" border=\"0\">\n",
    "\n",
    "The image above from left to right shows a typical boxplot, a vase plot, violin plot and bean plot.\n",
    "\n",
    "The idea of showing the median and quartiles as basic summaries in goes back to dispersion diagrmas introduced by Percy Robert Crowe in 1933. These were used by geographers and used in many textbooks and research papers from the 1930's onward. For example, the dispersion diagram below illustrates a moraine slope gradient at Feegletscher Nord. Horizontal bars indicate median values. Each closed circle represents one surveyed slope.\n",
    "\n",
    "<img src=\"https://image.ibb.co/nsuXAV/Dispersion-diagram.png\" alt=\"Dispersion-diagram\" border=\"0\">\n",
    "\n",
    "\n",
    "Moving on, the range bars of the plots  (The bar running from the median to the extremes) are attributed to Mary Eleanor Spear (1952). However, Tukey's contribution was to consider in depth appropriate summary stats that could be applied for a wide range of data and to connect those to the visual properties of the range bar [3]. A number of other slightly different conventions are sometimes used. In Tukey's original definition, the closely-related but lesser known hinges, i.e. H1 and H3  were used instead of Q1 and Q3. In addition, Tukey's original formulation lacked horizontal crossbars, extended the whiskers all the way to the extreme points, and drew an unfilled dot at the maximum and a hatched horizontal strip at the minimum, as illustrated above (left figure) [5]. \n",
    "\n",
    "<img src=\"https://image.ibb.co/gs2uqV/boxplots3.png\" alt=\"boxplots3\" border=\"0\">\n",
    "\n",
    "A variation extended the whiskers only out to some arbitrary minimum and maximum values and identifying the outliers with explicit labels. Tukey also considered an additional variation in which the outliers are indicated separately and whiskers are dashed, ending with dashed crossbars at \"adjacent values\" (values closest to but still inside the inner fences) [5]. Drawing whiskers to particular percentiles, rather than to data points within so many IQR of the quartiles, was emphasised by Cleveland (1985), but anticipated by Matthews (1936) and Grove (1956) who plotted the interoctile range, meaning between the first and seventh octiles, as well as the range and interquartile range. Dury (1963), Johnson (1975), Harris (1999), Myatt and Johnson (2009, 2011) and Davino et al. (2014) showed means as well as minimum, quartiles, median and maximum. Schmid (1954) showed summary graphs with median, quartiles and 5 and 95% points. Bentley (1985, 1988), Davis (2002), Spence (2007, 2014) and Motulsky (2010, 2014, 2018) plotted whiskers to 5 and 95% points [3]. It's clear to see that the boxplot has experienced a wide range of alterations and amendments over the last 80 years.\n",
    "\n",
    "### Situations where a boxplot can be used\n",
    "\n",
    "The Box Plot is a very useful tool when showing a statistical distribution, or when we have multiple data sets from independent sources that are related to each other in some way. For example test scores between schools or classrooms, data from before and after a particular process, or data from duplicate machines manufacturing the same products. It's value and applicability is not in question but let's examine some of the advanatges and disavantages of using a boxplot [6].\n",
    "\n",
    "* Due to the five number data summary they can handle and present a summary of a large amount of data. Organizing data in a boxplot is an efficient way of dealing with large data too unmanageable for other graphs, such as line plots.\n",
    "\n",
    "* Boxplots don't retain the exact values and details of the results of the distribution. This is an issue with handling such large amounts of data in this graph type.\n",
    "\n",
    "* A boxplot shows only a simple summary of the distribution of results, so that it you can quickly view it and compare it with other data.\n",
    "\n",
    "* A boxplot is a highly visually effective way of viewing a clear summary of one or more sets of data. It is particularly useful for quickly summarizing and comparing different sets of results from different experiments.\n",
    "\n",
    "* A boxplot is one of very few statistical graph methods that show outliers. Any results of data that fall outside of the minimum and maximum values known as outliers are easy to determine on a boxplot.\n",
    "\n",
    "\n",
    "\n"
   ]
  },
  {
   "cell_type": "markdown",
   "metadata": {},
   "source": [
    "### Use of the box plot on a random data and a dataset"
   ]
  },
  {
   "cell_type": "markdown",
   "metadata": {},
   "source": [
    "We will begin exploring boxplots by using numpy.random and matplotlib. Let's synthesize the data for the boxplots with numpy.random.normal and generate one with numpy.random.poisson too. The random.normal function will receive three parameters: mean, standard deviation of the normal distribution, and number of values. The random.poisson function will receive two paramters, lam and size."
   ]
  },
  {
   "cell_type": "code",
   "execution_count": 110,
   "metadata": {},
   "outputs": [],
   "source": [
    "%matplotlib inline\n",
    "\n",
    "import matplotlib.pyplot as plt\n",
    "import numpy as np\n",
    "\n",
    "# Fix a seed for reproducibility:\n",
    "np.random.seed(1234)\n",
    "\n",
    "\n",
    "## Generate data\n",
    "\n",
    "box_a = np.random.normal(100, 10, 200)\n",
    "box_b = np.random.poisson(100, 200)\n",
    "box_c = np.random.normal(90, 20, 200)\n",
    "box_d = np.random.normal(70, 25, 200)\n",
    "\n",
    "\n",
    "## Combine the different  into a lis\"box\" groups into a list    \n",
    "boxdata = [box_a, box_b, box_c, box_d]"
   ]
  },
  {
   "cell_type": "markdown",
   "metadata": {},
   "source": [
    "The boxdata list above is the real requirement for creating the boxplot."
   ]
  },
  {
   "cell_type": "code",
   "execution_count": 111,
   "metadata": {},
   "outputs": [
    {
     "data": {
      "image/png": "[encoded data removed]",
      "text/plain": [
       "<Figure size 576x432 with 1 Axes>"
      ]
     },
     "metadata": {},
     "output_type": "display_data"
    }
   ],
   "source": [
    "# Create a figure:\n",
    "fig = plt.figure(1, figsize=(8, 6))\n",
    "\n",
    "# Add a subplot to the current figure:\n",
    "ax = fig.add_subplot(111) \n",
    "\n",
    "# Create the boxplot\n",
    "bp = ax.boxplot(boxdata)"
   ]
  },
  {
   "cell_type": "markdown",
   "metadata": {},
   "source": [
    "It's a nice tidy output but we should change some of the features, the color of the boxes, whiskers, caps and the median.\n",
    "\n",
    "Making alterations to boxplot features with Python is not quite as easy as to do compared to some other plots, it is little more effortful, but delivers attractive results.\n",
    "\n",
    "The \"bp\" variable in the code above is a python dictionary with keys boxes, whiskers, caps, fliers and the median. The values in this dictionary are the geometric instances that we see in the plot. For example, the values bp['boxes'] are the polygon instances that we see as boxes. In order to change properties of the boxplot, we need to access the dictionary and alter their configuration. let's take a look at altering some of the configurations [7]."
   ]
  },
  {
   "cell_type": "code",
   "execution_count": 112,
   "metadata": {},
   "outputs": [
    {
     "data": {
      "image/png": "[encoded data removed]",
      "text/plain": [
       "<Figure size 576x432 with 1 Axes>"
      ]
     },
     "metadata": {},
     "output_type": "display_data"
    }
   ],
   "source": [
    "# Create the figure again:\n",
    "fig = plt.figure(1, figsize=(8, 6))\n",
    "ax = fig.add_subplot(111) \n",
    "bp = ax.boxplot(boxdata, patch_artist=True)\n",
    "\n",
    "# We can create a for loop to change the outline colour, fill colour and linewidth\n",
    "for box in bp['boxes']: \n",
    "    \n",
    "    box.set(color='red', linewidth=2) # Change outline color\n",
    "    box.set(facecolor = 'lightgreen' ) # Change fill color\n",
    "    \n",
    "# Create the boxplot\n",
    "bp = ax.boxplot(boxdata)"
   ]
  },
  {
   "cell_type": "markdown",
   "metadata": {},
   "source": [
    "The boxplots now look a bit more visually appealing. Let's changer some more properties [7]: "
   ]
  },
  {
   "cell_type": "code",
   "execution_count": 113,
   "metadata": {},
   "outputs": [
    {
     "data": {
      "image/png": "[encoded data removed]",
      "text/plain": [
       "<Figure size 576x432 with 1 Axes>"
      ]
     },
     "metadata": {},
     "output_type": "display_data"
    }
   ],
   "source": [
    "# Create the figure again:\n",
    "fig = plt.figure(1, figsize=(8, 6))\n",
    "ax = fig.add_subplot(111)\n",
    "bp = ax.boxplot(boxdata, patch_artist=True)\n",
    "\n",
    "# Change color and linewidth of the whiskers:\n",
    "for whisker in bp['whiskers']:\n",
    "    whisker.set(color='magenta', linewidth=2)\n",
    "\n",
    "# Change color and linewidth of the caps:\n",
    "for cap in bp['caps']:\n",
    "    cap.set(color='yellow', linewidth=2)\n",
    "\n",
    "# Change color and linewidth of the medians:\n",
    "for median in bp['medians']:\n",
    "    median.set(color='orange', linewidth=4)\n",
    "\n",
    "# Change the style of fliers and their fill:\n",
    "for flier in bp['fliers']:\n",
    "    flier.set(marker='o', color='skyblue', alpha=0.5)\n",
    "\n",
    "# Create the boxplot\n",
    "bp = ax.boxplot(boxdata)"
   ]
  },
  {
   "cell_type": "markdown",
   "metadata": {},
   "source": [
    "We can also custom the x-axis labels into string form instead of the integer labels by creating a list [8]:"
   ]
  },
  {
   "cell_type": "code",
   "execution_count": 137,
   "metadata": {},
   "outputs": [
    {
     "data": {
      "text/plain": [
       "Text(0,0.5,'Frequency')"
      ]
     },
     "execution_count": 137,
     "metadata": {},
     "output_type": "execute_result"
    },
    {
     "data": {
      "image/png": "[encoded data removed]",
      "text/plain": [
       "<Figure size 576x432 with 1 Axes>"
      ]
     },
     "metadata": {},
     "output_type": "display_data"
    }
   ],
   "source": [
    "fig = plt.figure(1, figsize=(8, 6))\n",
    "ax = fig.add_subplot(111)\n",
    "bp = ax.boxplot(boxdata, patch_artist=True)\n",
    "\n",
    "# Let's customize the x-axis ticks using a list:\n",
    "plt.xticks([1, 2, 3, 4],['Apple', 'Microsoft', 'Google', 'Amazon'])\n",
    "\n",
    "# We can add some labels too: \n",
    "ax.set_title('Boxplots')\n",
    "ax.set_xlabel('Big Data analytics companies')\n",
    "ax.set_ylabel('Frequency')"
   ]
  },
  {
   "cell_type": "markdown",
   "metadata": {},
   "source": [
    "### References\n",
    "\n",
    "[1]. Renjin, T. (2018). *Box-and-whisker plot*.  Retrieved from: https://www.britannica.com/science/box-and-whisker-plot\n",
    "\n",
    "[2]. Wickham, H. & Stryjewski, L. (2011). *40 years of boxplots*. Retrieved from: http://vita.had.co.nz/papers/boxplots.pdf \n",
    "\n",
    "[3]. Cox, N. J. (2018). *What's the history of box plots, and how did the “box and whiskers” design evolve?*. Retrieved from: https://stats.stackexchange.com/questions/369393/whats-the-history-of-box-plots-and-how-did-the-box-and-whiskers-design-evolv\n",
    "\n",
    "[4]. Statisticshowto.datasciencecentral.com, author unknown. (2018). *Box Plot (Box and Whiskers)*. Retrieved from: https://www.statisticshowto.datasciencecentral.com/probability-and-statistics/descriptive-statistics/box-plot/\n",
    "\n",
    "[5]. Tukey, J. W. (1977). \"Box-and-Whisker Plots.\" *Exploratory Data Analysis*. Reading, MA: Addison-Wesley, pp. 39-43. \n",
    "\n",
    "[6]. Ladkin, A. (2018). *Advantages & Disadvantages of a Box Plot*. Retrieved from: https://sciencing.com/advantages-disadvantages-box-plot-12025269.html\n",
    "\n",
    "[7]. Bhole, B. (2013). *Creating boxplots with Matplotlib*.  Retrieved from: http://blog.bharatbhole.com/creating-boxplots-with-matplotlib/\n",
    "\n",
    "[8]. Hemann, J. (2010). *How to name the ticks in a python matplotlib boxplot*. Retrieved from: https://stats.stackexchange.com/questions/3476/how-to-name-the-ticks-in-a-python-matplotlib-boxplot"
   ]
  },
  {
   "cell_type": "code",
   "execution_count": null,
   "metadata": {},
   "outputs": [],
   "source": []
  },
  {
   "cell_type": "code",
   "execution_count": null,
   "metadata": {},
   "outputs": [],
   "source": []
  }
 ],
 "metadata": {
  "kernelspec": {
   "display_name": "Python 3",
   "language": "python",
   "name": "python3"
  },
  "language_info": {
   "codemirror_mode": {
    "name": "ipython",
    "version": 3
   },
   "file_extension": ".py",
   "mimetype": "text/x-python",
   "name": "python",
   "nbconvert_exporter": "python",
   "pygments_lexer": "ipython3",
   "version": "3.6.5"
  }
 },
 "nbformat": 4,
 "nbformat_minor": 2
}
