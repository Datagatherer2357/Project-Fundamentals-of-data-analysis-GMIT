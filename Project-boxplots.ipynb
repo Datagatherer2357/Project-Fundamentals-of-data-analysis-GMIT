{
 "cells": [
  {
   "cell_type": "markdown",
   "metadata": {},
   "source": [
    "<img src=\"https://image.ibb.co/gw4Gen/Index-GMIT.png\" alt=\"Index-GMIT\" border=\"0\">\n",
    "\n",
    "## Project: Boxplots¶ \n",
    "\n",
    "* Project for Fundamentals of Data Analysis\n",
    "* Start date: 14-11-2018 End date 14-12-2018\n",
    "* Gareth Duffy\n",
    "----------------------\n",
    "\n",
    "### Project outline and objectives¶¶ \n",
    "\n",
    "* Summarise the history of the box plot and situations in which it used.\n",
    "* Demonstrate the use of the box plot using data of your choosing.\n",
    "* Explain any relevant terminology such as the terms quartile and percentile.\n",
    "* Compare the box plot to alternatives.\n",
    "---------------------------"
   ]
  },
  {
   "cell_type": "markdown",
   "metadata": {},
   "source": [
    "### History of the boxplot and situations in which it used\n",
    "\n",
    "The boxplot, also called a box-and-whisker plot, summarizes numerical data based on quartiles, which divide a data set into fourths. The boxplot is very useful for revealing the central tendency and variability of a data set, the distribution of the data (particularly symmetry and skewness), and the presence of outliers. It is also a powerful plotting technique for comparing sampled from two or more treatments or populations [1].  \n",
    "\n",
    "The boxplot was invented and introduced in 1970 by statistician John Wilder Tukey as part of his toolkit for exploratory data analysis. However, it did not become widely known until its official publication in 1977. Even today the boxplot is one of the most used statistical plots and is one of the very few plot types invented in the 20th century that has gained widespread utility. The basic form of the boxplot, the range bar was established in the 1950's. Tukey's contribution was to consider in depth appropriate summary stats that could be applied for a wide range of data and to connect those to the visual properties of the range bar.  [2].\n",
    "\n",
    "#### What exacty is a boxplot?\n",
    "\n",
    "The boxplot is a compact distributional summary, displaying less detail than the histogram or kernel density for example, but also taking up far less space. It is comprised of five components, carefully chosen to offer a comprehensive summary of the distribution of a dataset [2]:\n",
    "\n",
    "* The **median**.\n",
    "* The two **hinges**, the upper and lower fourths (quartiles).\n",
    "* The data values adjacent to the upper and lower **fences**, which lie 1.5 times the interquartile range (IQR) from the median.\n",
    "* Two **whiskers** that connect the hinges to the fences.\n",
    "* Potential **outliers**: Individual points further away from the median than the extremes.\n",
    "\n",
    "<img src=\"https://image.ibb.co/bHNjLV/boxplot.jpg\" alt=\"boxplot\" border=\"0\">\n",
    "\n",
    "There are quite a number of variations of these definitions. For example, some boxplots incorporate semi-interquartile ranges for asymmetric whiskers, adjustment to the extremes to account form skewness, alternative definitions of fences or outliers, or using additional graphical elements to display kurtosis, skewness, mean and standard error. One of the most appealing features of the boxplot is that if you have a rank function for your data, you can generate a boxplot. This makes it very simple to extend the boxplot to work with weighted data e.g. spatial or distance [2].\n",
    "\n"
   ]
  },
  {
   "cell_type": "markdown",
   "metadata": {},
   "source": [
    "### References\n",
    "\n",
    "[1]. Renjin, T. (2018). *Box-and-whisker plot*.  Retrieved from: https://www.britannica.com/science/box-and-whisker-plot\n",
    "\n",
    "[2]. Wickham, H. & Stryjewski, L. (2011). *40 years of boxplots*. Retrieved from: http://vita.had.co.nz/papers/boxplots.pdf \n"
   ]
  },
  {
   "cell_type": "code",
   "execution_count": null,
   "metadata": {},
   "outputs": [],
   "source": []
  }
 ],
 "metadata": {
  "kernelspec": {
   "display_name": "Python 3",
   "language": "python",
   "name": "python3"
  },
  "language_info": {
   "codemirror_mode": {
    "name": "ipython",
    "version": 3
   },
   "file_extension": ".py",
   "mimetype": "text/x-python",
   "name": "python",
   "nbconvert_exporter": "python",
   "pygments_lexer": "ipython3",
   "version": "3.6.5"
  }
 },
 "nbformat": 4,
 "nbformat_minor": 2
}
