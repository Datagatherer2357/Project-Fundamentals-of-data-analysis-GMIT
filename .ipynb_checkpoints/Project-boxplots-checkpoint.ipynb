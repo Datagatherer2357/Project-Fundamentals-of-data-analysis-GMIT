{
 "cells": [
  {
   "cell_type": "markdown",
   "metadata": {},
   "source": [
    "<img src=\"https://image.ibb.co/gw4Gen/Index-GMIT.png\" alt=\"Index-GMIT\" border=\"0\">\n",
    "\n",
    "## Project: Boxplots¶ \n",
    "\n",
    "* Project for Fundamentals of Data Analysis\n",
    "* Start date: 14-11-2018 End date 14-12-2018\n",
    "* Gareth Duffy\n",
    "----------------------\n",
    "\n",
    "### Project outline and objectives¶¶ \n",
    "\n",
    "* Summarise the history of the box plot and situations in which it used.\n",
    "* Demonstrate the use of the box plot using data of your choosing.\n",
    "* Explain any relevant terminology such as the terms quartile and percentile.\n",
    "* Compare the box plot to alternatives.\n",
    "---------------------------"
   ]
  },
  {
   "cell_type": "markdown",
   "metadata": {},
   "source": [
    "### History of the boxplot and situations in which it used\n",
    "\n",
    "The boxplot, also called a box-and-whisker plot, summarizes numerical data based on quartiles, which divide a data set into fourths. The boxplot is very useful for revealing the central tendency and variability of a data set, the distribution of the data (particularly symmetry and skewness), and the presence of outliers. It is also a powerful plotting technique for comparing sampled from two or more treatments or populations [1].  \n",
    "\n",
    "The boxplot was invented and introduced in 1970 by statistician John Wilder Tukey as part of his toolkit for exploratory data analysis. However, it did not become widely known until its official publication in 1977. Even today the boxplot is one of the most used statistical plots and is one of the very few plot types invented in the 20th century that has gained widespread utility. The basic form of the boxplot, the range bar was established in the 1950's [2].\n",
    "\n",
    "#### What exacty is a boxplot?\n",
    "\n",
    "The boxplot is a compact distributional summary, displaying less detail than the histogram or kernel density for example, but also taking up far less space. It is comprised of five components, carefully chosen to offer a comprehensive summary of the distribution of a dataset [2]:\n",
    "\n",
    "* The **median**.\n",
    "* The two **hinges**, the upper and lower fourths (quartiles).\n",
    "* The data values adjacent to the upper and lower **fences**, which lie 1.5 times the interquartile range (IQR) from the median.\n",
    "* Two **whiskers** that connect the hinges to the fences.\n",
    "* Potential **outliers**: Individual points further away from the median than the extremes.\n",
    "\n",
    "<img src=\"https://image.ibb.co/bHNjLV/boxplot.jpg\" alt=\"boxplot\" border=\"0\">\n",
    "\n",
    "There are quite a number of variations of these definitions. For example, some boxplots incorporate semi-interquartile ranges for asymmetric whiskers, adjustment to the extremes to account form skewness, alternative definitions of fences or outliers, or using additional graphical elements to display kurtosis, skewness, mean and standard error. One of the most appealing features of the boxplot is that if you have a rank function for your data, you can generate a boxplot. This makes it very simple to extend the boxplot to work with weighted data e.g. spatial or distance [2].\n",
    "\n",
    "\n",
    "One of the first limits encountered with the boxplot was that it was designed to be computed and drawn by hand. Today however, every statistician and data analyst has a computer at their disposal. Modern boxplots overcame problems the original type faced such as failure to display multi-modalality or the excessive number of outliers when the sample (*n*) is large. Let's look at a few of the basic variations. The first variation to display density was the *vase plot* in 1998. Here, the box is replaced with a symmetrical display of density. *Violin plots* are similer but display the density for *all* data points and not just the middle half. In 2008 the *bean plot* added a \"rug\" showing every value and a line that displays the mean. The name stems from the appearance of the plot where the shape of the density resembles the outside of a bean pod while the rug looks like the seeds inside. Kampstra (2008) suggested a way of comparing two groups more easily: use the left and right sides of the bean to display different distributions, an idea similar to the *raindrop plot*, but its focus is on the display of error distributions from complex models [2].\n",
    "\n",
    "<img src=\"https://image.ibb.co/fShenA/boxplot2.png\" alt=\"boxplot2\" border=\"0\">\n",
    "\n",
    "The image above from left to right shows a typical boxplot, a vase plot, violin plot and bean plot.\n",
    "\n",
    "The idea of showing the median and quartiles as basic summaries in fact goes back to dispersion diagrmas introduced by Percy Robert Crowe in 1933. These were used by geographers and used in many textbooks and research papers from the 1930's onward. The range bars of the plots are attributed to Mary Eleanor Spear (1952). However, Tukey's contribution was to consider in depth appropriate summary stats that could be applied for a wide range of data and to connect those to the visual properties of the range bar. The idea of showing the median and quartiles as basic summaries in fact goes back to dispersion diagrmas introduced by Percy Robert Crowe in 1933. These were used by geographers and used in many textbooks and research papers from the 1930's onward. The range bars of the plots are attributed to Mary Eleanor Spear (1952). However, Tukey's contribution was to consider in depth appropriate summary stats that could be applied for a wide range of data and to connect those to the visual properties of the range bar. Drawing whiskers to particular percentiles, rather than to data points within so many IQR of the quartiles, was emphasised by Cleveland (1985), but anticipated by Matthews (1936) and Grove (1956) who plotted the interoctile range, meaning between the first and seventh octiles, as well as the range and interquartile range. Dury (1963), Johnson (1975), Harris (1999), Myatt and Johnson (2009, 2011) and Davino et al. (2014) showed means as well as minimum, quartiles, median and maximum. Schmid (1954) showed summary graphs with median, quartiles and 5 and 95% points. Bentley (1985, 1988), Davis (2002), Spence (2007, 2014) and Motulsky (2010, 2014, 2018) plotted whiskers to 5 and 95% points [3]."
   ]
  },
  {
   "cell_type": "markdown",
   "metadata": {},
   "source": [
    "### References\n",
    "\n",
    "[1]. Renjin, T. (2018). *Box-and-whisker plot*.  Retrieved from: https://www.britannica.com/science/box-and-whisker-plot\n",
    "\n",
    "[2]. Wickham, H. & Stryjewski, L. (2011). *40 years of boxplots*. Retrieved from: http://vita.had.co.nz/papers/boxplots.pdf \n",
    "\n",
    "[3]. Cox, N. J. (2018). *What's the history of box plots, and how did the “box and whiskers” design evolve?*. Retrieved from: https://stats.stackexchange.com/questions/369393/whats-the-history-of-box-plots-and-how-did-the-box-and-whiskers-design-evolv\n"
   ]
  },
  {
   "cell_type": "code",
   "execution_count": null,
   "metadata": {},
   "outputs": [],
   "source": []
  }
 ],
 "metadata": {
  "kernelspec": {
   "display_name": "Python 3",
   "language": "python",
   "name": "python3"
  },
  "language_info": {
   "codemirror_mode": {
    "name": "ipython",
    "version": 3
   },
   "file_extension": ".py",
   "mimetype": "text/x-python",
   "name": "python",
   "nbconvert_exporter": "python",
   "pygments_lexer": "ipython3",
   "version": "3.6.5"
  }
 },
 "nbformat": 4,
 "nbformat_minor": 2
}
